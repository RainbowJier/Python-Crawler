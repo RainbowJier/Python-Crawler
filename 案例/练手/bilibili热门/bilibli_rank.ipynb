{
 "cells": [
  {
   "cell_type": "code",
   "execution_count": 17,
   "metadata": {},
   "outputs": [],
   "source": [
    "import requests\n",
    "import jsonpath\n",
    "import json"
   ]
  },
  {
   "cell_type": "code",
   "execution_count": 21,
   "metadata": {},
   "outputs": [
    {
     "name": "stdout",
     "output_type": "stream",
     "text": [
      "获取响应\n",
      "{'title': '【胡彦斌 × 不负人间】胡氏唱腔再现国风魅力，深情诠释济世化生', 'author': '梦幻西游电脑版', 'view': 1816463}\n",
      "{'title': '知道的人越多！倒闭的奶茶店就越多！', 'author': '多拉的十九N', 'view': 1823169}\n",
      "{'title': '一句话回怼道德绑架！', 'author': '计算机学长', 'view': 2143395}\n",
      "{'title': '烂片导演+过气演员=票房黑马，万字解析《扬名立万》', 'author': '小片片说大片', 'view': 361196}\n",
      "{'title': '大 学 生 沉 浸 式 破 防', 'author': '豆豆豆豆逗是我', 'view': 1380570}\n",
      "{'title': '鱿 鱼 天 花 板', 'author': '澳洲阿彭', 'view': 1309116}\n",
      "{'title': '肯德基：价值千万的蛋挞配方就这样让你破解了？！', 'author': '马壮实Hera', 'view': 166485}\n",
      "{'title': '油炸过的东西，肯定都很酥脆好吃，对吧.....对吧？！', 'author': 'YouTube精彩视频-', 'view': 1430081}\n",
      "{'title': '这是一场世界大战！一战历史年表，史诗级影视化剪辑【历史调研室30】', 'author': '历史调研室', 'view': 388652}\n",
      "{'title': '有人一生被童年治愈，有人用一生来治愈童年', 'author': '狈总', 'view': 3152362}\n",
      "{'title': '忙了一天，来便利店随便对付一口～无广试吃员', 'author': '小紧张的虫虫', 'view': 259309}\n",
      "{'title': '在迪拜最高餐厅吃饭什么体验？小伙横跨2万公里，就为了它？', 'author': 'Meetfood觅食', 'view': 141288}\n",
      "{'title': '人间的面，吃一碗少一碗，见一面少一面。', 'author': '锦书致南辞', 'view': 3657316}\n",
      "{'title': '你好，我是乌克兰总统泽连斯基……【懂点儿啥】', 'author': '肝帝董佳宁', 'view': 2375429}\n",
      "{'title': '【裸眼3D】终于来了，无限一键三连制造机', 'author': '前进的查理', 'view': 2679360}\n",
      "{'title': '蛇岛士兵看到乌军方称自己“阵亡”落泪：我们是被派去送死的', 'author': '青蜂侠-Bee', 'view': 1222288}\n",
      "{'title': '这游戏的隐藏结局，刷新了我对机制和内涵的理解〖游戏不止〗', 'author': '森纳映画', 'view': 178997}\n",
      "{'title': '《那 些 笑 死 人 的 外 卖 订 单》', 'author': '人类欢乐指南', 'view': 2164358}\n",
      "{'title': '我要当爸爸了？？这是真的吗？？', 'author': '力元君', 'view': 3819410}\n",
      "{'title': '攒够了5个家庭小料理，今天来教大家做蛋，学会了做给家人吃，你会回来谢我…漫画煎蛋、水波蛋、温泉蛋、溏心蛋、完美蛋黄、糖醋荷包蛋', 'author': '阿男的食谱', 'view': 323174}\n"
     ]
    }
   ],
   "source": [
    "def get_information(page):\n",
    "    url=\"https://api.bilibili.com/x/web-interface/popular?ps=20&pn=\"+str(page)\n",
    "    head = {\n",
    "        'User-agent':\"Mozilla/5.0 (Windows NT 10.0; Win64; x64) AppleWebKit/537.36 (KHTML, like Gecko) Chrome/98.0.4758.102 Safari/537.36\"\n",
    "    }\n",
    "    response=requests.get(url=url,headers=head)\n",
    "    if response.status_code==200:\n",
    "        print(\"获取响应\")\n",
    "        response.encoding=response.apparent_encoding\n",
    "        data=json.loads(response.text)\n",
    "        n_data=jsonpath.jsonpath(data,\"$.data\")\n",
    "        return n_data\n",
    "\n",
    "if __name__==\"__main__\":\n",
    "    page=int(input(\"请输入起始页:\"))\n",
    "    data=get_information(page)\n",
    "\n",
    "    title=jsonpath.jsonpath(data,\"$..title\")  #所有标题\n",
    "    author=jsonpath.jsonpath(data,\"$...name\") #所有作者\n",
    "    view=jsonpath.jsonpath(data,\"$...view\")   #播放量\n",
    "    for i in range(len(title)):\n",
    "        result={\n",
    "            \"title\":title[i],\n",
    "            \"author\":author[i],\n",
    "            \"view\":view[i]\n",
    "        }\n",
    "        print(result)"
   ]
  },
  {
   "cell_type": "markdown",
   "metadata": {},
   "source": [
    "# 制作词云"
   ]
  },
  {
   "cell_type": "code",
   "execution_count": null,
   "metadata": {},
   "outputs": [],
   "source": []
  }
 ],
 "metadata": {
  "interpreter": {
   "hash": "8f03fb8992b0e5aa6a67cd56eb653950a01f214acb97d94a2178dd1aa47d1bcf"
  },
  "kernelspec": {
   "display_name": "Python 3.7.6 ('base')",
   "language": "python",
   "name": "python3"
  },
  "language_info": {
   "codemirror_mode": {
    "name": "ipython",
    "version": 3
   },
   "file_extension": ".py",
   "mimetype": "text/x-python",
   "name": "python",
   "nbconvert_exporter": "python",
   "pygments_lexer": "ipython3",
   "version": "3.7.6"
  },
  "orig_nbformat": 4
 },
 "nbformat": 4,
 "nbformat_minor": 2
}
