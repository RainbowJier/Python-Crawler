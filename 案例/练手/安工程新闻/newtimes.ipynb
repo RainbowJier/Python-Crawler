{
 "cells": [
  {
   "cell_type": "code",
   "execution_count": 42,
   "metadata": {},
   "outputs": [],
   "source": [
    "import requests\n",
    "from lxml import etree\n",
    "import pandas as pd\n",
    "import numpy  as np"
   ]
  },
  {
   "cell_type": "code",
   "execution_count": 43,
   "metadata": {},
   "outputs": [],
   "source": [
    "import requests\n",
    "from lxml import etree\n",
    "import pandas as pd\n",
    "import numpy  as np\n",
    "\n",
    "def get_information():\n",
    "    try:\n",
    "        url=\"https://www.ahpu.edu.cn/\"\n",
    "        head = {\n",
    "            'User-agent':\"Mozilla/5.0 (Windows NT 10.0; Win64; x64) AppleWebKit/537.36 (KHTML, like Gecko) Chrome/98.0.4758.102 Safari/537.36\"\n",
    "        }\n",
    "        response=requests.get(url=url,headers=head,timeout=5)\n",
    "        if response.status_code==200:\n",
    "            response.encoding=\"utf-8\"\n",
    "            tree=etree.HTML(response.text)\n",
    "            href=tree.xpath('//*[@id=\"wp_news_w1\"]/ul/li/span[1]/a/@href')[2:]\n",
    "            news=tree.xpath('//*[@id=\"wp_news_w1\"]/ul/li/span[1]/a/text()')\n",
    "            data=[]\n",
    "            for i in range(len(href)):\n",
    "                data.append([href[i],news[i]])\n",
    "            data=np.array(data)\n",
    "            df=pd.DataFrame(data=data,columns=[\"href\",\"text\"])\n",
    "            df.to_csv(\"result.csv\")\n",
    "\n",
    "    except Exception as e:\n",
    "        print(\"出错了\")\n",
    "        print(e)\n",
    "\n",
    "get_information()"
   ]
  },
  {
   "cell_type": "code",
   "execution_count": 17,
   "metadata": {},
   "outputs": [
    {
     "name": "stdout",
     "output_type": "stream",
     "text": [
      "3\n",
      "5\n"
     ]
    }
   ],
   "source": [
    "n=int(input(\"请输入大于1的数:\"))\n",
    "def sushu(n):\n",
    "    p=True\n",
    "    for i in range(2,n):\n",
    "        if n%i==0:\n",
    "            p=False\n",
    "            break\n",
    "        return p\n",
    "\n",
    "m=0\n",
    "for i in range(2,n+1):\n",
    "    if sushu(i):\n",
    "        m+=1\n",
    "        print(i)\n",
    "        if m%10==0:\n",
    "            print(\"\\t\")\n",
    "        "
   ]
  },
  {
   "cell_type": "code",
   "execution_count": null,
   "metadata": {},
   "outputs": [],
   "source": []
  }
 ],
 "metadata": {
  "interpreter": {
   "hash": "8f03fb8992b0e5aa6a67cd56eb653950a01f214acb97d94a2178dd1aa47d1bcf"
  },
  "kernelspec": {
   "display_name": "Python 3.7.6 ('base')",
   "language": "python",
   "name": "python3"
  },
  "language_info": {
   "codemirror_mode": {
    "name": "ipython",
    "version": 3
   },
   "file_extension": ".py",
   "mimetype": "text/x-python",
   "name": "python",
   "nbconvert_exporter": "python",
   "pygments_lexer": "ipython3",
   "version": "3.7.6"
  },
  "orig_nbformat": 4
 },
 "nbformat": 4,
 "nbformat_minor": 2
}
