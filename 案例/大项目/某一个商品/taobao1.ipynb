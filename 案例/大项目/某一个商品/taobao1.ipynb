{
 "cells": [
  {
   "cell_type": "markdown",
   "metadata": {},
   "source": [
    "# 需求\n",
    "* 商品名称，商品价格，生产地区，销售额、店铺名称"
   ]
  },
  {
   "cell_type": "code",
   "execution_count": 52,
   "metadata": {},
   "outputs": [],
   "source": [
    "from selenium import webdriver\n",
    "import time\n",
    "import pandas as pd"
   ]
  },
  {
   "cell_type": "markdown",
   "metadata": {},
   "source": [
    "# 建立驱动，打开淘宝页面"
   ]
  },
  {
   "cell_type": "code",
   "execution_count": 53,
   "metadata": {},
   "outputs": [
    {
     "name": "stderr",
     "output_type": "stream",
     "text": [
      "C:\\Users\\jie'jie\\AppData\\Roaming\\Python\\Python37\\site-packages\\ipykernel_launcher.py:3: DeprecationWarning: executable_path has been deprecated, please pass in a Service object\n",
      "  This is separate from the ipykernel package so we can avoid doing imports until\n"
     ]
    }
   ],
   "source": [
    "#创建谷歌浏览器操作对象，打开淘宝主页\n",
    "path=r\"C:\\Program Files\\Google\\Chrome\\Application\\chromedriver.exe\"  #谷歌浏览器的驱动文件路径\n",
    "wb=webdriver.Chrome(path)\n",
    "#跳过滑块验证\n",
    "script = '''\n",
    "Object.defineProperty(navigator, 'webdriver', {\n",
    "    get: () => undefined\n",
    "})\n",
    "'''\n",
    "wb.execute_cdp_cmd(\"Page.addScriptToEvaluateOnNewDocument\", {\"source\": script})\n",
    "\n",
    "url=\"https://login.taobao.com/member/login.jhtml?redirectURL=http%3A%2F%2Fi.taobao.com%2Fmy_taobao.htm%3Fspm%3Da21bo.jianhua.0.0.5af911d9MUiZgk%26pm_id%3D1501036000a02c5c3739\"\n",
    "wb.get(url)\n",
    "wb.implicitly_wait(3)"
   ]
  },
  {
   "cell_type": "markdown",
   "metadata": {},
   "source": [
    "# 登入淘宝（假设已经在电脑登入）"
   ]
  },
  {
   "cell_type": "code",
   "execution_count": 54,
   "metadata": {},
   "outputs": [
    {
     "name": "stderr",
     "output_type": "stream",
     "text": [
      "C:\\Users\\jie'jie\\AppData\\Roaming\\Python\\Python37\\site-packages\\ipykernel_launcher.py:5: DeprecationWarning: find_element_by_* commands are deprecated. Please use find_element() instead\n",
      "  \"\"\"\n",
      "C:\\Users\\jie'jie\\AppData\\Roaming\\Python\\Python37\\site-packages\\ipykernel_launcher.py:7: DeprecationWarning: find_element_by_* commands are deprecated. Please use find_element() instead\n",
      "  import sys\n",
      "C:\\Users\\jie'jie\\AppData\\Roaming\\Python\\Python37\\site-packages\\ipykernel_launcher.py:8: DeprecationWarning: find_element_by_class_name is deprecated. Please use find_element(by=By.CLASS_NAME, value=name) instead\n",
      "  \n"
     ]
    }
   ],
   "source": [
    "def login():\n",
    "    # 输入账号和密码\n",
    "    accout = \"13599829312\"   # 你的账号\n",
    "    password = \"575neng942\"   # 你的密码\n",
    "    wb.find_element_by_id('fm-login-id').send_keys(accout)  #输入账号\n",
    "    wb.implicitly_wait(4)\n",
    "    wb.find_element_by_id('fm-login-password').send_keys(password) #输入密码\n",
    "    wb.find_element_by_class_name('fm-btn').click() #登入\n",
    "login()"
   ]
  },
  {
   "cell_type": "markdown",
   "metadata": {},
   "source": [
    "# 输入查询的信息"
   ]
  },
  {
   "cell_type": "code",
   "execution_count": 55,
   "metadata": {},
   "outputs": [
    {
     "name": "stderr",
     "output_type": "stream",
     "text": [
      "C:\\Users\\jie'jie\\AppData\\Roaming\\Python\\Python37\\site-packages\\ipykernel_launcher.py:3: DeprecationWarning: find_element_by_xpath is deprecated. Please use find_element(by=By.XPATH, value=xpath) instead\n",
      "  This is separate from the ipykernel package so we can avoid doing imports until\n",
      "C:\\Users\\jie'jie\\AppData\\Roaming\\Python\\Python37\\site-packages\\ipykernel_launcher.py:4: DeprecationWarning: find_element_by_class_name is deprecated. Please use find_element(by=By.CLASS_NAME, value=name) instead\n",
      "  after removing the cwd from sys.path.\n"
     ]
    }
   ],
   "source": [
    "goods_key=\"奥特曼\"\n",
    "time.sleep(10)\n",
    "wb.find_element_by_xpath('/html/body/header/article/nav/div/div/form/div[2]/div/div/div/div/input').send_keys(goods_key)\n",
    "wb.find_element_by_class_name('btn-search').click()"
   ]
  },
  {
   "cell_type": "markdown",
   "metadata": {},
   "source": [
    "# 获取信息"
   ]
  },
  {
   "cell_type": "code",
   "execution_count": 56,
   "metadata": {},
   "outputs": [
    {
     "name": "stderr",
     "output_type": "stream",
     "text": [
      "C:\\Users\\jie'jie\\AppData\\Roaming\\Python\\Python37\\site-packages\\ipykernel_launcher.py:11: DeprecationWarning: find_elements_by_xpath is deprecated. Please use find_elements(by=By.XPATH, value=xpath) instead\n",
      "  # This is added back by InteractiveShellApp.init_path()\n"
     ]
    },
    {
     "name": "stdout",
     "output_type": "stream",
     "text": [
      "48\n"
     ]
    },
    {
     "name": "stderr",
     "output_type": "stream",
     "text": [
      "C:\\Users\\jie'jie\\AppData\\Roaming\\Python\\Python37\\site-packages\\ipykernel_launcher.py:15: DeprecationWarning: find_element_by_xpath is deprecated. Please use find_element(by=By.XPATH, value=xpath) instead\n",
      "  from ipykernel import kernelapp as app\n",
      "C:\\Users\\jie'jie\\AppData\\Roaming\\Python\\Python37\\site-packages\\ipykernel_launcher.py:18: DeprecationWarning: find_element_by_xpath is deprecated. Please use find_element(by=By.XPATH, value=xpath) instead\n",
      "C:\\Users\\jie'jie\\AppData\\Roaming\\Python\\Python37\\site-packages\\ipykernel_launcher.py:21: DeprecationWarning: find_element_by_xpath is deprecated. Please use find_element(by=By.XPATH, value=xpath) instead\n",
      "C:\\Users\\jie'jie\\AppData\\Roaming\\Python\\Python37\\site-packages\\ipykernel_launcher.py:24: DeprecationWarning: find_element_by_xpath is deprecated. Please use find_element(by=By.XPATH, value=xpath) instead\n",
      "C:\\Users\\jie'jie\\AppData\\Roaming\\Python\\Python37\\site-packages\\ipykernel_launcher.py:28: DeprecationWarning: find_element_by_xpath is deprecated. Please use find_element(by=By.XPATH, value=xpath) instead\n",
      "C:\\Users\\jie'jie\\AppData\\Roaming\\Python\\Python37\\site-packages\\ipykernel_launcher.py:31: DeprecationWarning: find_element_by_xpath is deprecated. Please use find_element(by=By.XPATH, value=xpath) instead\n",
      "C:\\Users\\jie'jie\\AppData\\Roaming\\Python\\Python37\\site-packages\\ipykernel_launcher.py:34: DeprecationWarning: find_element_by_xpath is deprecated. Please use find_element(by=By.XPATH, value=xpath) instead\n"
     ]
    },
    {
     "name": "stdout",
     "output_type": "stream",
     "text": [
      "43\n"
     ]
    }
   ],
   "source": [
    "'''页面跳转问题'''\n",
    "time.sleep(1)\n",
    "#1.获取当前页面（跳转过来的页面）句柄：\n",
    "wb.window_handles[-1]\n",
    "#2.切换到新窗口：\n",
    "wb.switch_to.window(wb.window_handles[-1])\n",
    "\n",
    "data={\"商品名称\":[],\"商品图片\":[],\"商品价格\":[],\"商品成交量\":[],\"商品生产地\":[],\"店铺名称\":[]}\n",
    "\n",
    "for i in range(2):   #设置爬取的页数\n",
    "    com_list=wb.find_elements_by_xpath('//div[@class=\"items\"]/div[@class=\"item J_MouserOnverReq  \"]')\n",
    "    print(len(com_list))\n",
    "    for item in com_list:\n",
    "        #获取图片\n",
    "        img=item.find_element_by_xpath('.//div[@class=\"pic\"]/a/img').get_attribute('src')\n",
    "        data[\"商品图片\"].append(img)\n",
    "        #获取名称\n",
    "        name=item.find_element_by_xpath('.//div[@class=\"row row-2 title\"]').text\n",
    "        data[\"商品名称\"].append(name)\n",
    "        #获取价格\n",
    "        price=item.find_element_by_xpath('.//a[@class=\"J_ClickStat\"]').get_attribute('trace-price')\n",
    "        data[\"商品价格\"].append(price)\n",
    "        #获取成交量\n",
    "        sold_num=item.find_element_by_xpath('.//div[@class=\"deal-cnt\"]').text\n",
    "        sold_num=sold_num.replace(\"人付款\",\"\")\n",
    "        data[\"商品成交量\"].append(sold_num)\n",
    "        #获取生产地\n",
    "        address=item.find_element_by_xpath('.//div[@class=\"location\"]').text\n",
    "        data[\"商品生产地\"].append(address)\n",
    "        #获取店铺名称\n",
    "        shop_name=item.find_element_by_xpath('.//div[@class=\"shop\"]/a/span[2]').text\n",
    "        data[\"店铺名称\"].append(shop_name)\n",
    "    #翻页\n",
    "    wb.find_element_by_xpath('//*[@id=\"mainsrp-pager\"]/div/div/div/ul/li[8]').click()  \n",
    "    time.sleep(3)"
   ]
  },
  {
   "cell_type": "markdown",
   "metadata": {},
   "source": [
    "# 保存文件"
   ]
  },
  {
   "cell_type": "code",
   "execution_count": 57,
   "metadata": {},
   "outputs": [],
   "source": [
    "df=pd.DataFrame(data)\n",
    "df.to_csv(\"taobao_aoteman.csv\",encoding=\"utf-8-sig\")"
   ]
  }
 ],
 "metadata": {
  "interpreter": {
   "hash": "49cb93f377a7abe7414b7b0f21fb3017538004a126cf690fb524202736b7fb92"
  },
  "kernelspec": {
   "display_name": "Python 3.7.6 ('base')",
   "language": "python",
   "name": "python3"
  },
  "language_info": {
   "codemirror_mode": {
    "name": "ipython",
    "version": 3
   },
   "file_extension": ".py",
   "mimetype": "text/x-python",
   "name": "python",
   "nbconvert_exporter": "python",
   "pygments_lexer": "ipython3",
   "version": "3.7.6"
  },
  "orig_nbformat": 4
 },
 "nbformat": 4,
 "nbformat_minor": 2
}
