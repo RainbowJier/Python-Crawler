{
 "cells": [
  {
   "cell_type": "code",
   "execution_count": 2,
   "metadata": {},
   "outputs": [],
   "source": [
    "import requests\n",
    "from bs4 import BeautifulSoup\n",
    "import re"
   ]
  },
  {
   "cell_type": "markdown",
   "metadata": {},
   "source": [
    "# 获取热榜歌曲名"
   ]
  },
  {
   "cell_type": "code",
   "execution_count": 3,
   "metadata": {},
   "outputs": [
    {
     "name": "stdout",
     "output_type": "stream",
     "text": [
      "成功获取网站相应\n"
     ]
    }
   ],
   "source": [
    "url=\"https://music.163.com/discover/toplist?id=3778678\"\n",
    "head = {\n",
    "    'User-agent':\"Mozilla/5.0 (Windows NT 10.0; Win64; x64) AppleWebKit/537.36 (KHTML, like Gecko) Chrome/98.0.4758.102 Safari/537.36\",\n",
    "    'Cookie':'__e_=1515461191756; _ntes_nnid=af802a7dd2cafc9fef605185da6e73fb,1515461190617; _ntes_nuid=af802a7dd2cafc9fef605185da6e73fb; JSESSIONID-WYYY=HMyeRdf98eDm%2Bi%5CRnK9iB%5ChcSODhA%2Bh4jx5t3z20hhwTRsOCWhBS5Cpn%2B5j%5CVfMIu0i4bQY9sky%5CsvMmHhuwud2cDNbFRD%2FHhWHE61VhovnFrKWXfDAp%5CqO%2B6cEc%2B%2BIXGz83mwrGS78Goo%2BWgsyJb37Oaqr0IehSp288xn5DhgC3Cobe%3A1515585307035; _iuqxldmzr_=32; __utma=94650624.61181594.1515583507.1515583507.1515583507.1; __utmc=94650624; __utmz=94650624.1515583507.1.1.utmcsr=(direct)|utmccn=(direct)|utmcmd=(none); __utmb=94650624.4.10.1515583507'\n",
    "}\n",
    "r=requests.get(url=url,headers=head)\n",
    "if r.status_code==200:  #判断是否获取相应\n",
    "    print(\"成功获取网站相应\")\n",
    "    r.encoding=r.apparent_encoding  #编码\n",
    "    soup=str(BeautifulSoup(r.text,\"lxml\"))\n",
    "    pat1 = r'<ul class=\"f-hide\"><li><a href=\"/song\\?id=\\d*?\">.*</a></li></ul>'  #锁定位置\n",
    "    data=re.compile(pat1).findall(soup)\n",
    "    name=re.compile(r'<li><a href=\"/song\\?id=\\d*?\">(.*?)</a></li>').findall(str(data))  #歌曲名字\n",
    "    id=re.compile(r'<li><a href=\"/song\\?id=(\\d*?)\">.*?</a></li>').findall(str(data))    #歌曲id"
   ]
  },
  {
   "cell_type": "markdown",
   "metadata": {},
   "source": [
    "# 下载热榜音乐\n",
    "要用二进制形式写入文件"
   ]
  },
  {
   "cell_type": "code",
   "execution_count": null,
   "metadata": {},
   "outputs": [],
   "source": [
    "download_url=\"https://music.163.com/song/media/outer/url?id=\"\n",
    "temp=zip(name,id)\n",
    "for item in temp:\n",
    "    url=download_url+item[1]\n",
    "    music=requests.get(url=url,headers=head).content\n",
    "    with open(r\"D:\\python\\crawler\\crawler2022\\3_案例\\网易云热榜音乐爬取\\热榜音乐\\%s.mp3\"%item[0],\"wb\") as f:  #写入二进制文件\n",
    "        print(\"正在爬取《%s》....\"%item[0])\n",
    "        f.write(music)\n",
    "print(\"热榜音乐爬取完成。\")\n"
   ]
  },
  {
   "cell_type": "code",
   "execution_count": null,
   "metadata": {},
   "outputs": [],
   "source": []
  }
 ],
 "metadata": {
  "interpreter": {
   "hash": "8f03fb8992b0e5aa6a67cd56eb653950a01f214acb97d94a2178dd1aa47d1bcf"
  },
  "kernelspec": {
   "display_name": "Python 3.7.6 ('base')",
   "language": "python",
   "name": "python3"
  },
  "language_info": {
   "codemirror_mode": {
    "name": "ipython",
    "version": 3
   },
   "file_extension": ".py",
   "mimetype": "text/x-python",
   "name": "python",
   "nbconvert_exporter": "python",
   "pygments_lexer": "ipython3",
   "version": "3.7.6"
  },
  "orig_nbformat": 4
 },
 "nbformat": 4,
 "nbformat_minor": 2
}
