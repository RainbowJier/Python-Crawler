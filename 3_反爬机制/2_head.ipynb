{
 "cells": [
  {
   "cell_type": "markdown",
   "metadata": {},
   "source": [
    "# 为什么时设置headers?\n",
    "    在请求网页爬取的时候，输出的text信息中会出现抱歉，无法访问等字眼，这就是禁止爬取，需要通过反爬机制去解决这个问题。headers是解决requests请求反爬的方法之一，相当于我们进去这个网页的服务器本身，假装自己本身在爬取数据。对反爬虫网页，可以设置一些headers信息，模拟成浏览器取访问网站。\n",
    "\n",
    "# headers在哪里呢？\n",
    "![](pictures\\1.jpg)\n",
    "\n",
    "# 作用是什么？\n",
    "    模仿浏览器访问网页。\n",
    "以下程序来区别没有head和有head返回的结果"
   ]
  },
  {
   "cell_type": "code",
   "execution_count": 6,
   "metadata": {},
   "outputs": [
    {
     "name": "stdout",
     "output_type": "stream",
     "text": [
      "<Response [418]>\n",
      "反问失败\n"
     ]
    }
   ],
   "source": [
    "import requests\n",
    "\n",
    "'''没有head'''\n",
    "url=f\"https://movie.douban.com\"\n",
    "response=requests.get(url=url)\n",
    "print(response)\n",
    "if response.status_code==200:\n",
    "    response.encoding=\"utf-8\"  #网页编码\n",
    "else:\n",
    "    print(\"反问失败\")"
   ]
  },
  {
   "cell_type": "code",
   "execution_count": 8,
   "metadata": {},
   "outputs": [
    {
     "name": "stdout",
     "output_type": "stream",
     "text": [
      "<Response [200]>\n",
      "访问成功\n"
     ]
    }
   ],
   "source": [
    "'''有head'''\n",
    "url=f\"https://movie.douban.com\"\n",
    "head = {\n",
    "    'User-agent':\"Mozilla/5.0 (Windows NT 10.0; Win64; x64) AppleWebKit/537.36 (KHTML, like Gecko) Chrome/98.0.4758.102 Safari/537.36\"\n",
    "}\n",
    "response=requests.get(url=url,headers=head)\n",
    "print(response)\n",
    "if response.status_code==200:\n",
    "    response.encoding=\"utf-8\"  #网页编码\n",
    "    print(\"访问成功\")"
   ]
  },
  {
   "cell_type": "markdown",
   "metadata": {},
   "source": [
    "# 设置相关的参数\n",
    "* user-agent：浏览器代理（模拟浏览器访问）\n",
    "* Accept：指定客户端可以接收哪些类型的数据\n",
    "* cookie：可以识别用户身份（类似于通行证，解决有些网站需要登入才能访问的问题）。"
   ]
  }
 ],
 "metadata": {
  "interpreter": {
   "hash": "49cb93f377a7abe7414b7b0f21fb3017538004a126cf690fb524202736b7fb92"
  },
  "kernelspec": {
   "display_name": "Python 3.7.6 ('base')",
   "language": "python",
   "name": "python3"
  },
  "language_info": {
   "codemirror_mode": {
    "name": "ipython",
    "version": 3
   },
   "file_extension": ".py",
   "mimetype": "text/x-python",
   "name": "python",
   "nbconvert_exporter": "python",
   "pygments_lexer": "ipython3",
   "version": "3.7.6"
  },
  "orig_nbformat": 4
 },
 "nbformat": 4,
 "nbformat_minor": 2
}
