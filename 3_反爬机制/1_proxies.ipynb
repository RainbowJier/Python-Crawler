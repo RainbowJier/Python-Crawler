{
 "cells": [
  {
   "cell_type": "code",
   "execution_count": 27,
   "metadata": {},
   "outputs": [],
   "source": [
    "import requests\n",
    "from lxml import etree\n",
    "import time\n",
    "import random"
   ]
  },
  {
   "cell_type": "code",
   "execution_count": 28,
   "metadata": {},
   "outputs": [],
   "source": [
    "class get_ip:\n",
    "    def __init__(self):\n",
    "        self.proxies_link=[]\n",
    "        self.lei1=\"ha\"  #高匿代理\n",
    "        self.lei2=\"tr\"  #普通代理\n",
    "    '''判断ip是否有效'''\n",
    "    def check_proxy(ip):\n",
    "        try:\n",
    "            url=\"https://www.baidu.com\"\n",
    "            head = {\n",
    "                'User-agent':\"Mozilla/5.0 (Windows NT 10.0; Win64; x64) AppleWebKit/537.36 (KHTML, like Gecko) Chrome/98.0.4758.102 Safari/537.36\"\n",
    "            }\n",
    "            response=requests.get(url=url,headers=head,proxies={\"http\":ip},timeout=8)\n",
    "            if response.status_code==200:\n",
    "                #print(f\"{ip}有效\")\n",
    "                '''保存ip'''\n",
    "                with open(\"proxies.txt\",\"a\",encoding=\"utf-8\",newline=\"\") as f:  #保存有效的ip\n",
    "                    f.write(ip+\"\\n\")\n",
    "                return True\n",
    "        except Exception as e:\n",
    "            print(f\"{ip}无效\")\n",
    "            pass    \n",
    "    '''爬取ip'''\n",
    "    def get_proxy(self,page,ip):\n",
    "        try:\n",
    "            print(f\"正在爬取{page}页\")\n",
    "            url=\"https://www.kuaidaili.com/free/in\"+str(self.lei2)+\"/\"+str(page+1)+\"/\"   #------->选择普通的ip或者高匿ip\n",
    "            head = {\n",
    "                'User-agent':\"Mozilla/5.0 (Windows NT 10.0; Win64; x64) AppleWebKit/537.36 (KHTML, like Gecko) Chrome/98.0.4758.102 Safari/537.36\"\n",
    "            }\n",
    "            response=requests.get(url=url,headers=head,proxies={\"http\":ip})\n",
    "            if response.status_code==200:\n",
    "                response.encoding=\"utf-8\"\n",
    "                tree = etree.HTML(response.text)\n",
    "                ip_list=tree.xpath('//*[@id=\"list\"]/table/tbody/tr/td[1]/text()')\n",
    "                for i in ip_list:\n",
    "                    if get_ip.check_proxy(i)==True:  #判断ip是否有效\n",
    "                        self.proxies_link.append(i)\n",
    "            return self.proxies_link\n",
    "        except Exception  as e:\n",
    "            print(e)  "
   ]
  },
  {
   "cell_type": "code",
   "execution_count": 29,
   "metadata": {},
   "outputs": [
    {
     "name": "stdout",
     "output_type": "stream",
     "text": [
      "正在爬取0页\n",
      "正在爬取1页\n",
      "正在爬取2页\n",
      "正在爬取3页\n",
      "正在爬取4页\n",
      "正在爬取5页\n",
      "正在爬取6页\n",
      "正在爬取7页\n",
      "正在爬取8页\n",
      "正在爬取9页\n"
     ]
    }
   ],
   "source": [
    "if __name__==\"__main__\":\n",
    "    with open(\"proxies.txt\",\"r\")as f:\n",
    "        proxies=f.readlines()\n",
    "    ip=get_ip()\n",
    "    for page in range(10):\n",
    "        ip_list=ip.get_proxy(page,random.choice(proxies))  #输入爬取的页数"
   ]
  }
 ],
 "metadata": {
  "interpreter": {
   "hash": "4d31cd09c3b8f49f74181b0dbf6740fc89befcaafc801e81613d22e3c432d659"
  },
  "kernelspec": {
   "display_name": "Python 3.7.6 ('base')",
   "language": "python",
   "name": "python3"
  },
  "language_info": {
   "codemirror_mode": {
    "name": "ipython",
    "version": 3
   },
   "file_extension": ".py",
   "mimetype": "text/x-python",
   "name": "python",
   "nbconvert_exporter": "python",
   "pygments_lexer": "ipython3",
   "version": "3.7.6"
  },
  "orig_nbformat": 4
 },
 "nbformat": 4,
 "nbformat_minor": 2
}
