{
 "cells": [
  {
   "cell_type": "markdown",
   "metadata": {},
   "source": [
    "# 1、Json文件\n",
    "    JSON(JavaScript Object Notation) 是一种轻量级的数据交换格式，它使得人们很容易的进行阅读和编写。同时也方便了机器进行解析和生成。适用于进行数据交互的场景，比如网站前台与后台之间的数据交互。\n",
    "对象：对象在js中表示为{ }括起来的内容，数据结构为 { key：value, key：value, ... }的键值对的结构，在面向对象的语言中，key为对象的属性，value为对应的属性值，所以很容易理解，取值方法为 对象.key 获取属性值，这个属性值的类型可以是数字、字符串、数组、对象这几种\n"
   ]
  },
  {
   "cell_type": "markdown",
   "metadata": {},
   "source": [
    "## 1.1 import json\n",
    "    json模块提供了四个功能：dumps、dump、loads、load，用于字符串 和 python数据类型间进行转换"
   ]
  },
  {
   "cell_type": "markdown",
   "metadata": {},
   "source": [
    "json.loads()：把Json格式**字符串**解码转换成Python对象"
   ]
  },
  {
   "cell_type": "code",
   "execution_count": 9,
   "metadata": {},
   "outputs": [
    {
     "name": "stdout",
     "output_type": "stream",
     "text": [
      "[1, 2, 3, 4]\n",
      "{'city': '北京', 'name': '大猫'}\n"
     ]
    }
   ],
   "source": [
    "'''json.loads()'''\n",
    "import json\n",
    "strList = '[1, 2, 3, 4]'\n",
    "strDict = '{\"city\": \"北京\", \"name\": \"大猫\"}'\n",
    "\n",
    "print(json.loads(strList))\n",
    "print(json.loads(strDict)) # json数据自动按Unicode存储"
   ]
  },
  {
   "cell_type": "markdown",
   "metadata": {},
   "source": [
    "json.dump()：将Python内置类型序列化为json对象后写入**文件**"
   ]
  },
  {
   "cell_type": "code",
   "execution_count": 10,
   "metadata": {},
   "outputs": [],
   "source": [
    "import json\n",
    "\n",
    "listStr = [{\"city\": \"北京\"}, {\"name\": \"大刘\"}]\n",
    "json.dump(listStr, open(\"listStr.json\",\"w\"), ensure_ascii=False)\n",
    "\n",
    "dictStr = {\"city\": \"北京\", \"name\": \"大刘\"}\n",
    "json.dump(dictStr, open(\"dictStr.json\",\"w\"), ensure_ascii=False)"
   ]
  },
  {
   "cell_type": "markdown",
   "metadata": {},
   "source": [
    "json.load()：读取**文件**中json形式的字符串元素 转化成python类型"
   ]
  },
  {
   "cell_type": "code",
   "execution_count": 12,
   "metadata": {},
   "outputs": [
    {
     "name": "stdout",
     "output_type": "stream",
     "text": [
      "[{'city': '北京'}, {'name': '大刘'}]\n",
      "{'city': '北京', 'name': '大刘'}\n"
     ]
    }
   ],
   "source": [
    "import json\n",
    "\n",
    "strList = json.load(open(\"listStr.json\"))\n",
    "print(strList)\n",
    "\n",
    "strDict = json.load(open(\"dictStr.json\"))\n",
    "print(strDict)\n"
   ]
  },
  {
   "cell_type": "markdown",
   "metadata": {},
   "source": [
    "json.dumps()：现python类型转化为json字符串，返回一个str对象"
   ]
  },
  {
   "cell_type": "code",
   "execution_count": null,
   "metadata": {},
   "outputs": [
    {
     "name": "stdout",
     "output_type": "stream",
     "text": [
      "[1, 2, 3, 4]\n",
      "[1, 2, 3, 4]\n",
      "{\"city\": \"\\u5317\\u4eac\", \"name\": \"\\u5927\\u732b\"}\n"
     ]
    }
   ],
   "source": [
    "import json\n",
    "\n",
    "listStr = [1, 2, 3, 4]\n",
    "tupleStr = (1, 2, 3, 4)\n",
    "dictStr = {\"city\": \"北京\", \"name\": \"大猫\"}\n",
    "\n",
    "print(json.dumps(listStr))\n",
    "print(json.dumps(tupleStr))\n",
    "print(json.dumps(dictStr))\n"
   ]
  },
  {
   "cell_type": "markdown",
   "metadata": {},
   "source": [
    "# 2、jsonpath\n",
    "![](pictures\\jsonpath.png)"
   ]
  }
 ],
 "metadata": {
  "interpreter": {
   "hash": "49cb93f377a7abe7414b7b0f21fb3017538004a126cf690fb524202736b7fb92"
  },
  "kernelspec": {
   "display_name": "Python 3.7.6 ('base')",
   "language": "python",
   "name": "python3"
  },
  "language_info": {
   "codemirror_mode": {
    "name": "ipython",
    "version": 3
   },
   "file_extension": ".py",
   "mimetype": "text/x-python",
   "name": "python",
   "nbconvert_exporter": "python",
   "pygments_lexer": "ipython3",
   "version": "3.7.6"
  },
  "orig_nbformat": 4
 },
 "nbformat": 4,
 "nbformat_minor": 2
}
