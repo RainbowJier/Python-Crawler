{
 "cells": [
  {
   "cell_type": "markdown",
   "metadata": {},
   "source": [
    "# 1、xpath\n",
    "    XPath是一门在 XML 文档中查找信息的语言。XPath 可用来在 XML 文档中对元素和属性进行遍历。\n",
    "在文本解析时，需要将文件转为XML类型的文档格式，例如下面程序1.1"
   ]
  },
  {
   "cell_type": "code",
   "execution_count": 4,
   "metadata": {},
   "outputs": [
    {
     "name": "stdout",
     "output_type": "stream",
     "text": [
      "<Element html at 0x26dde4df748>\n"
     ]
    }
   ],
   "source": [
    "'''1.1'''\n",
    "from lxml import etree\n",
    "import requests\n",
    "\n",
    "url=\"https://www.kuaidaili.com\"\n",
    "head = {\n",
    "    'User-agent':\"Mozilla/5.0 (Windows NT 10.0; Win64; x64) AppleWebKit/537.36 (KHTML, like Gecko) Chrome/98.0.4758.102 Safari/537.36\"\n",
    "}\n",
    "response=requests.get(url=url,headers=head)\n",
    "if response.status_code==200:\n",
    "    response.encoding=\"utf-8\"\n",
    "    tree = etree.HTML(response.text)"
   ]
  },
  {
   "cell_type": "markdown",
   "metadata": {},
   "source": [
    "# 1.1元素定位\n",
    "![](pictures\\xpath.jpg)\n",
    "\n",
    "例如下面程序1.2"
   ]
  },
  {
   "cell_type": "code",
   "execution_count": null,
   "metadata": {},
   "outputs": [],
   "source": [
    "'''1.2'''\n",
    "#局部定位\n",
    "data_enough=tree.xpath('//*[@id=\"nowplaying\"]/div[2]/ul/li/@data-enough')  #本地电影院是否有票 \n",
    "#全局定位\n",
    "data_picture_url=tree.xpath('/html/body/div[3]/div[1]/div/div[1]/div[3]/div[2]/ul/li/ul/li[1]/a/img/@src')  #图片"
   ]
  }
 ],
 "metadata": {
  "interpreter": {
   "hash": "49cb93f377a7abe7414b7b0f21fb3017538004a126cf690fb524202736b7fb92"
  },
  "kernelspec": {
   "display_name": "Python 3.7.6 ('base')",
   "language": "python",
   "name": "python3"
  },
  "language_info": {
   "codemirror_mode": {
    "name": "ipython",
    "version": 3
   },
   "file_extension": ".py",
   "mimetype": "text/x-python",
   "name": "python",
   "nbconvert_exporter": "python",
   "pygments_lexer": "ipython3",
   "version": "3.7.6"
  },
  "orig_nbformat": 4
 },
 "nbformat": 4,
 "nbformat_minor": 2
}
