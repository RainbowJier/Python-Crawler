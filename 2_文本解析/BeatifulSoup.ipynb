{
 "cells": [
  {
   "cell_type": "markdown",
   "metadata": {},
   "source": [
    "# 1、什么时BeatifluSoup解析器？\n",
    "    是一个可以从HTML或XML文件中提取数据的Python库，使用前需安装：pip install bs4"
   ]
  },
  {
   "cell_type": "markdown",
   "metadata": {},
   "source": [
    "举个例子"
   ]
  },
  {
   "cell_type": "code",
   "execution_count": 2,
   "metadata": {},
   "outputs": [
    {
     "name": "stdout",
     "output_type": "stream",
     "text": [
      "<title>The Dormouse's story</title>\n",
      "The Dormouse's story\n",
      "http://example.com/elsie\n",
      "<p class=\"title\"><b>The Dormouse's story</b></p>\n",
      "<a class=\"sister\" href=\"http://example.com/elsie\" id=\"link1\">Elsie</a>\n",
      "[<a class=\"sister\" href=\"http://example.com/elsie\" id=\"link1\">Elsie</a>, <a class=\"sister\" href=\"http://example.com/lacie\" id=\"link2\">Lacie</a>, <a class=\"sister\" href=\"http://example.com/tillie\" id=\"link3\">Tillie</a>]\n"
     ]
    }
   ],
   "source": [
    "from bs4 import BeautifulSoup\n",
    "\n",
    "html = \"\"\"\n",
    "<html><head><title>The Dormouse's story</title></head>\n",
    "<body>\n",
    "<p class=\"title\"><b>The Dormouse's story</b></p>\n",
    "\n",
    "<p class=\"c\">Once upon a time there were three little sisters; and their names were\n",
    "<a href=\"http://example.com/elsie\" class=\"sister\" id=\"link1\">Elsie</a>,\n",
    "<a href=\"http://example.com/lacie\" class=\"sister\" id=\"link2\">Lacie</a> and\n",
    "<a href=\"http://example.com/tillie\" class=\"sister\" id=\"link3\">Tillie</a>;\n",
    "and they lived at the bottom of a well.</p>\n",
    "\n",
    "<p class=\"story\">...</p>\n",
    "\"\"\"\n",
    "\n",
    "soup = BeautifulSoup(html, 'lxml')\n",
    "\n",
    "print(soup.title)  # 查找title标签\n",
    "print(soup.title.get_text())  # 获取title的文本\n",
    "print(soup.a.get(\"href\"))  # 获取第一个a元素的href属性值，tag类型可以当做字典使用\n",
    "print(soup.p)  # 第一个p元素\n",
    "\n",
    "print(soup.find(name='a'))  # 查找第一个a元素\n",
    "print(soup.find_all(name=\"a\"))  # 查找所有a元素\n",
    "\n",
    "# print(soup.prettify())  # 打印整个HTML\n",
    "\n"
   ]
  },
  {
   "cell_type": "markdown",
   "metadata": {},
   "source": [
    "# 2、常用的几种解析器\n",
    "![解析器](pictures/2.png)"
   ]
  },
  {
   "cell_type": "markdown",
   "metadata": {},
   "source": [
    "# 3、元素查找\n",
    "* find()：只匹配第一个符合要求的元素，找不到返回None。\n",
    "* find_all()：匹配所有，找不到返回空列表"
   ]
  },
  {
   "cell_type": "code",
   "execution_count": 3,
   "metadata": {},
   "outputs": [
    {
     "data": {
      "text/plain": [
       "[<a class=\"sister\" href=\"http://example.com/elsie\" id=\"link1\">Elsie</a>,\n",
       " <a class=\"sister\" href=\"http://example.com/lacie\" id=\"link2\">Lacie</a>]"
      ]
     },
     "execution_count": 3,
     "metadata": {},
     "output_type": "execute_result"
    }
   ],
   "source": [
    "soup.find(name='a')  # # 查找第一个 a 标签\n",
    "soup.find_all(name=['a','b'])  # 查找所有 a 标签和 b 标签\n",
    "\n",
    "soup.find_all(\"a\", class_=\"sister\")  # 查找class为sister的所有a标签\n",
    "\n",
    "soup.find_all(text=\"Elsie\")  # 通过文本内容查找\n",
    "soup.find(id='link2')  # 通过id查找第一个元素\n",
    "soup.find_all(class_=\"sister\")  # 通过class查找元素\n",
    "soup.find_all(\"a\", limit=2)  # 限制返回2个\n",
    "\n"
   ]
  },
  {
   "cell_type": "markdown",
   "metadata": {},
   "source": [
    "* select()：可以通过 css 样式选择器进行元素查找，返回的是列表类型的数据"
   ]
  },
  {
   "cell_type": "code",
   "execution_count": 4,
   "metadata": {},
   "outputs": [
    {
     "data": {
      "text/plain": [
       "[<a class=\"sister\" href=\"http://example.com/elsie\" id=\"link1\">Elsie</a>]"
      ]
     },
     "execution_count": 4,
     "metadata": {},
     "output_type": "execute_result"
    }
   ],
   "source": [
    "'''通过标签查找'''\n",
    "soup.select('title')   #查找title标签的内容\n",
    "'''\n",
    "通过类名查找\n",
    "(.story)==(class=“story”)\n",
    "\n",
    "'''\n",
    "soup.select(\".story\")  \n",
    "'''\n",
    "通过id名查找\n",
    "(#link1)==(id=\"link1\")\n",
    "'''\n",
    "soup.select('#link1')  \n",
    "\n",
    "'''\n",
    "组合查找\n",
    "查找 p 标签中，id 等于 link1的内容，二者需要用空格分开\n",
    "'''\n",
    "soup.select(\"p #link1\")\n",
    "\n",
    "'''\n",
    "属性查找\n",
    "查找a标签中href属性\n",
    "'''\n",
    "soup.select('a[href=\"http://example.com/elsie\"]')"
   ]
  }
 ],
 "metadata": {
  "interpreter": {
   "hash": "49cb93f377a7abe7414b7b0f21fb3017538004a126cf690fb524202736b7fb92"
  },
  "kernelspec": {
   "display_name": "Python 3.7.6 ('base')",
   "language": "python",
   "name": "python3"
  },
  "language_info": {
   "codemirror_mode": {
    "name": "ipython",
    "version": 3
   },
   "file_extension": ".py",
   "mimetype": "text/x-python",
   "name": "python",
   "nbconvert_exporter": "python",
   "pygments_lexer": "ipython3",
   "version": "3.7.6"
  },
  "orig_nbformat": 4
 },
 "nbformat": 4,
 "nbformat_minor": 2
}
