{
 "cells": [
  {
   "cell_type": "markdown",
   "metadata": {},
   "source": [
    "# 1、什么是爬虫?\n",
    "    我们作为用户获取网络数据的方式是浏览器提交请求->下载网页代码->解析/渲染成页面；而爬虫的方式是模拟浏览器发送请求->下载网页代码->只提取有用的数据->存放于数据库或文件中。爬虫与我们的区别是，爬虫程序只提取网页代码中对我们有用的数据，并且爬虫抓取速度快，量级大。\n",
    "进行爬虫学习，首先要懂得是网页，那些我们肉眼可见的光鲜亮丽的网页是由HTML、css、javascript等网页源码所支撑起来的。这些源码被浏览器所识别转换成我们看到的网页，这些源码里面必定存在着很多规律,我们的爬虫就能按照这样的规律来爬取需要的信息。\n",
    "* 1.请求目标链接：发起一个带有header、请求参数等信息的Request，等待服务器响应；\n",
    "\n",
    "* 2.获取响应内容：服务器正常响应后，Response的内容即包含所有页面内容（可以是HTML、JSON字符串、二进制数据（图片、视频）等等）\n",
    "\n",
    "* 3.解析内容：得到的内容可能是HTML,可以用正则表达式，页面解析库进行解析；可能是Json字符串,可以直接转换为Json对象解析，可能是二进制数据，可以做保存或者进一步的处理……\n",
    "\n",
    "* 4.存储数据：存储形式多样，可以存为文本，也可以存储到数据库，或者存为特定格式的文件；"
   ]
  },
  {
   "cell_type": "code",
   "execution_count": 10,
   "metadata": {},
   "outputs": [
    {
     "name": "stdout",
     "output_type": "stream",
     "text": [
      "<!DOCTYPE html>\n",
      "<!--STATUS OK--><html> <head><meta content=\"text/html;charset=utf-8\" http-equiv=\"content-type\"/><meta content=\"IE=Edge\" http-equiv=\"X-UA-Compatible\"/><meta content=\"always\" name=\"referrer\"/><link href=\"https://ss1.bdstatic.com/5eN1bjq8AAUYm2zgoY3K/r/www/cache/bdorz/baidu.min.css\" rel=\"stylesheet\" type=\"text/css\"/><title>ç¾åº¦ä¸ä¸ï¼ä½ å°±ç¥é</title></head> <body link=\"#0000cc\"> <div id=\"wrapper\"> <div id=\"head\"> <div class=\"head_wrapper\"> <div class=\"s_form\"> <div class=\"s_form_wrapper\"> <div id=\"lg\"> <img height=\"129\" hidefocus=\"true\" src=\"//www.baidu.com/img/bd_logo1.png\" width=\"270\"/> </div> <form action=\"//www.baidu.com/s\" class=\"fm\" id=\"form\" name=\"f\"> <input name=\"bdorz_come\" type=\"hidden\" value=\"1\"/> <input name=\"ie\" type=\"hidden\" value=\"utf-8\"/> <input name=\"f\" type=\"hidden\" value=\"8\"/> <input name=\"rsv_bp\" type=\"hidden\" value=\"1\"/> <input name=\"rsv_idx\" type=\"hidden\" value=\"1\"/> <input name=\"tn\" type=\"hidden\" value=\"baidu\"/><span class=\"bg s_ipt_wr\"><input autocomplete=\"off\" autofocus=\"autofocus\" class=\"s_ipt\" id=\"kw\" maxlength=\"255\" name=\"wd\" value=\"\"/></span><span class=\"bg s_btn_wr\"><input autofocus=\"\" class=\"bg s_btn\" id=\"su\" type=\"submit\" value=\"ç¾åº¦ä¸ä¸\"/></span> </form> </div> </div> <div id=\"u1\"> <a class=\"mnav\" href=\"http://news.baidu.com\" name=\"tj_trnews\">æ°é»</a> <a class=\"mnav\" href=\"https://www.hao123.com\" name=\"tj_trhao123\">hao123</a> <a class=\"mnav\" href=\"http://map.baidu.com\" name=\"tj_trmap\">å°å¾</a> <a class=\"mnav\" href=\"http://v.baidu.com\" name=\"tj_trvideo\">è§é¢</a> <a class=\"mnav\" href=\"http://tieba.baidu.com\" name=\"tj_trtieba\">è´´å§</a> <noscript> <a class=\"lb\" href=\"http://www.baidu.com/bdorz/login.gif?login&amp;tpl=mn&amp;u=http%3A%2F%2Fwww.baidu.com%2f%3fbdorz_come%3d1\" name=\"tj_login\">ç»å½</a> </noscript> <script>document.write('<a href=\"http://www.baidu.com/bdorz/login.gif?login&tpl=mn&u='+ encodeURIComponent(window.location.href+ (window.location.search === \"\" ? \"?\" : \"&\")+ \"bdorz_come=1\")+ '\" name=\"tj_login\" class=\"lb\">ç»å½</a>');\n",
      "                </script> <a class=\"bri\" href=\"//www.baidu.com/more/\" name=\"tj_briicon\" style=\"display: block;\">æ´å¤äº§å</a> </div> </div> </div> <div id=\"ftCon\"> <div id=\"ftConw\"> <p id=\"lh\"> <a href=\"http://home.baidu.com\">å³äºç¾åº¦</a> <a href=\"http://ir.baidu.com\">About Baidu</a> </p> <p id=\"cp\">©2017 Baidu <a href=\"http://www.baidu.com/duty/\">ä½¿ç¨ç¾åº¦åå¿è¯»</a>  <a class=\"cp-feedback\" href=\"http://jianyi.baidu.com/\">æè§åé¦</a> äº¬ICPè¯030173å·  <img src=\"//www.baidu.com/img/gs.gif\"/> </p> </div> </div> </div> </body> </html>\n",
      "\n"
     ]
    }
   ],
   "source": [
    "import requests\n",
    "from bs4 import BeautifulSoup\n",
    "\n",
    "url=\"https://www.baidu.com/\"  #请求目标链接\n",
    "response=requests.get(url=url) #获取相应内容\n",
    "soup=BeautifulSoup(response.text,\"lxml\")  #用BeatifulSoup库解析文本\n",
    "print(soup)"
   ]
  },
  {
   "cell_type": "markdown",
   "metadata": {},
   "source": [
    "当然许多信息并不是你想爬就能够爬取的，无规矩不成方圆，Robots协议就是爬虫中的规矩，它告诉爬虫和搜索引擎哪些页面可以抓取，哪些不可以抓取。通常是一个叫作robots.txt的文本文件，放在网站的根目录下。接下载就介绍这个君子协议。"
   ]
  },
  {
   "cell_type": "markdown",
   "metadata": {},
   "source": [
    "# 2、Robots协议\n",
    "    在目标链接后面+robots.txt，例如：https://www.csdn.net/robots.txt\n",
    "![](https://www.dotcpp.com/oj/ueditor/php/upload/image/20200309/1583726240164511.png)\n",
    "（表示禁止所有搜索引擎访问网站的任何部分）\n",
    "\n",
    "![](https://www.dotcpp.com/oj/ueditor/php/upload/image/20200309/1583726275482145.png)\n",
    "（只禁止YoudaoBot搜索引擎访问部分目录下的文件）\n"
   ]
  },
  {
   "cell_type": "markdown",
   "metadata": {},
   "source": [
    "# 3、网页请求方式\n",
    "    Request一般的请求方式：get/post两种常见类型。\n",
    "* GET：最常见的方式，一般用于获取或查询资源型信息，**只需一次发送和返回，响应速度快。**\n",
    "* POST：通过request body传递参数，**可发送的请求的信息远远大于GET方式。**\n",
    "  * 用处：\n",
    "    * 翻译时，传入需要翻译的词汇作为post参数\n",
    "    * 有些网页需要登入才能查看内容，这时就需要在head中添加User-agent、Cookie等参数"
   ]
  },
  {
   "cell_type": "code",
   "execution_count": 3,
   "metadata": {},
   "outputs": [
    {
     "name": "stdout",
     "output_type": "stream",
     "text": [
      "<Response [200]>\n"
     ]
    }
   ],
   "source": [
    "'''get请求'''\n",
    "import requests\n",
    "\n",
    "url=\"https://www.baidu.com/\"  #请求目标链接\n",
    "response=requests.get(url=url) #获取相应内容\n",
    "print(response) #返回200表示成功获取数据"
   ]
  },
  {
   "cell_type": "code",
   "execution_count": 7,
   "metadata": {},
   "outputs": [
    {
     "name": "stdout",
     "output_type": "stream",
     "text": [
      "<Response [200]>\n"
     ]
    }
   ],
   "source": [
    "'''\n",
    "post请求\n",
    "爬取一个翻译网站\n",
    "'''\n",
    "import json\n",
    "url=\"https://fanyi.baidu.com/v2transapi?from=en&to=zh\"\n",
    "head = {\n",
    "    'User-agent': 'Mozilla/5.0 (Windows NT 10.0; WOW64) AppleWebKit/537.36 (KHTML, like Gecko) Chrome/60.0.3112.113 Safari/537.36',\n",
    "    \"Accept\": \"*/*\",\n",
    "    \"Accept-Encoding\": \"gzip, deflate, br\",\n",
    "    \"Accept-Language\": \"zh-CN,zh;q=0.9\",\n",
    "    \"Connection\": \"keep-alive\",\n",
    "    \"Content-Length\": \"115\",\n",
    "    \"Content-Type\": \"application/x-www-form-urlencoded; charset=UTF-8\",\n",
    "    \"Cookie\": \"BIDUPSID=4AD394F0E4B583665C486090934F577A; PSTM=1644160960; BAIDUID=4AD394F0E4B58366302BF1CDEF3EB225:FG=1; __yjs_duid=1_c1c21e715945bb13bf0368c18ec991f11644160971439; REALTIME_TRANS_SWITCH=1; SOUND_SPD_SWITCH=1; HISTORY_SWITCH=1; FANYI_WORD_SWITCH=1; SOUND_PREFER_SWITCH=1; APPGUIDE_10_0_2=1; BDUSS=otQTFKM2dhNWhUREM5cXlyRDhNdWd4ekdQRlh0Rzg1OEUzUlFLRWZTRDF3eWhpSUFBQUFBJCQAAAAAAAAAAAEAAADXm6qkzezK1sz9t-dpMQAAAAAAAAAAAAAAAAAAAAAAAAAAAAAAAAAAAAAAAAAAAAAAAAAAAAAAAAAAAAAAAAAAAAAAAPU2AWL1NgFiSF; BDUSS_BFESS=otQTFKM2dhNWhUREM5cXlyRDhNdWd4ekdQRlh0Rzg1OEUzUlFLRWZTRDF3eWhpSUFBQUFBJCQAAAAAAAAAAAEAAADXm6qkzezK1sz9t-dpMQAAAAAAAAAAAAAAAAAAAAAAAAAAAAAAAAAAAAAAAAAAAAAAAAAAAAAAAAAAAAAAAAAAAAAAAPU2AWL1NgFiSF; BDSFRCVID=edIOJeC62CgiRz7D01dsM2deQxX0ma6TH6f3dA6TNMWk6b9q7xlGEG0P5U8g0Ku-S2Q6ogKK3mOTHmLF_2uxOjjg8UtVJeC6EG0Ptf8g0f5; H_BDCLCKID_SF=tJ-HoC0XtDD3H48k-4QEbbQH-UnLq53HfgOZ04n-ah02VRnC3M82jb-OXH5bKloLW20j0h7m3UTKsq76Wh35K5tTQP6rLtbMfCr4KKJxbp74Jl3vQ45zDt4OhUJiB5JLBan7WlRIXKohJh7FM4tW3J0ZyxomtfQxtNRJ0DnjtpChbC_9D6LbejjLeU5eetjK2CntsJOOaCvbsf7Oy4oWK441Db53-q3RtnnfolC-5n5GDqvoD-Jc3M04K4o9-hvT-54e2p3FBUQJeITPQft20b0g3l6x2M5aWR6y0n7jWhk5Dq72y-cdQlRX5q79atTMfNTJ-qcH0KQpsIJM5-DWbT8IjHCHqTDDJbKHoCvt-5rDHJTg5DTjhPrMQq6tWMT-MTryKKJ42PQxsKtm5n6YD4080fciB5OMBanRh4oNB-3iV-OxDUvnyxAZbUt85fQxtNRJ2MQL3b7PHlIlhPOobUPUDUc9LUvLBgcdot5yBbc8eIna5hjkbfJBQttjQn3hfIkj2CKLtC8WhD86e5Rjh-40b2Ta54cbb4o2WbCQQCtM8pcNLTDKj-LZMecn0TOPKaruoJbHLR6vKfjF0lO1j4_eKab-WPKq0CtO2RrIbh0abh5jDh0V25ksD-RteltHHC7y0hvctb6cShnzXMjrDRLbXU6BK5vPbNcZ0l8K3l02V-bIe-t2b6QhDH-OJ6FOtJ3f0Rrob6rDHJTg5DTjhPrMbfOAWMT-0bFH5b3VLtFbsKtlbbbYD4080q7vJPrKJHn7_JLb5pD-ShrE3P4--6FLjp7Q0MQxtN4t-CnjtpvhKf840jjobUPUDUc9LUvLBgcdot5yBbc8eIna5hjkbfJBQttjQn3hfIkj0DKLK-oj-D89DT0W3e; BDSFRCVID_BFESS=edIOJeC62CgiRz7D01dsM2deQxX0ma6TH6f3dA6TNMWk6b9q7xlGEG0P5U8g0Ku-S2Q6ogKK3mOTHmLF_2uxOjjg8UtVJeC6EG0Ptf8g0f5; H_BDCLCKID_SF_BFESS=tJ-HoC0XtDD3H48k-4QEbbQH-UnLq53HfgOZ04n-ah02VRnC3M82jb-OXH5bKloLW20j0h7m3UTKsq76Wh35K5tTQP6rLtbMfCr4KKJxbp74Jl3vQ45zDt4OhUJiB5JLBan7WlRIXKohJh7FM4tW3J0ZyxomtfQxtNRJ0DnjtpChbC_9D6LbejjLeU5eetjK2CntsJOOaCvbsf7Oy4oWK441Db53-q3RtnnfolC-5n5GDqvoD-Jc3M04K4o9-hvT-54e2p3FBUQJeITPQft20b0g3l6x2M5aWR6y0n7jWhk5Dq72y-cdQlRX5q79atTMfNTJ-qcH0KQpsIJM5-DWbT8IjHCHqTDDJbKHoCvt-5rDHJTg5DTjhPrMQq6tWMT-MTryKKJ42PQxsKtm5n6YD4080fciB5OMBanRh4oNB-3iV-OxDUvnyxAZbUt85fQxtNRJ2MQL3b7PHlIlhPOobUPUDUc9LUvLBgcdot5yBbc8eIna5hjkbfJBQttjQn3hfIkj2CKLtC8WhD86e5Rjh-40b2Ta54cbb4o2WbCQQCtM8pcNLTDKj-LZMecn0TOPKaruoJbHLR6vKfjF0lO1j4_eKab-WPKq0CtO2RrIbh0abh5jDh0V25ksD-RteltHHC7y0hvctb6cShnzXMjrDRLbXU6BK5vPbNcZ0l8K3l02V-bIe-t2b6QhDH-OJ6FOtJ3f0Rrob6rDHJTg5DTjhPrMbfOAWMT-0bFH5b3VLtFbsKtlbbbYD4080q7vJPrKJHn7_JLb5pD-ShrE3P4--6FLjp7Q0MQxtN4t-CnjtpvhKf840jjobUPUDUc9LUvLBgcdot5yBbc8eIna5hjkbfJBQttjQn3hfIkj0DKLK-oj-D89DT0W3e; delPer=0; BAIDU_WISE_UID=wapp_1644839602889_29; BDRCVFR[dG2JNJb_ajR]=mk3SLVN4HKm; BDRCVFR[-pGxjrCMryR]=mk3SLVN4HKm; BDRCVFR[710W695qCWt]=M606xoxuAlcTA--uhN8uz4WU6; BAIDUID_BFESS=98F0C427DA7090483AB050B56B240B90:FG=1; BDRCVFR[tox4WRQ4-Km]=mk3SLVN4HKm; BDRCVFR[CLK3Lyfkr9D]=mk3SLVN4HKm; H_PS_PSSID=31253_26350; PSINO=6; ZD_ENTRY=bing; Hm_lvt_64ecd82404c51e03dc91cb9e8c025574=1644241594,1644385166,1645537349,1645791447; ab_sr=1.0.1_Nzk3NDc2YTQ3YTU3N2UwMzdlN2UxYTE1OWM3NDY0NzgwMzI1NWJlYzE4MTEyYzQwMDk2OWM0YWU2Njk1MjNkYWIwNGMyM2M4ZDc3ZTQyYzI1NjU0ZjRiN2U3MzdlMDA5ZjhmZDllMmRhMDJmY2RlMDAxZThlYTI0YmQ4NDZlZjEzZWE5ODZlODQzZjQwODY1NjRiNjQ5NGI5ZjlhNTA1Mzc1Nzg2NDgxYjZjZmI1YTllMGJkOWFiODg0MzIzMThj; Hm_lpvt_64ecd82404c51e03dc91cb9e8c025574=1645791558\"\n",
    "}\n",
    "data={\n",
    "    \"from\": \"en\",\n",
    "    \"to\": \"zh\",\n",
    "    \"query\": \"cat\",  #需要翻译的参数\n",
    "    \"simple_means_flag\": \"3\",\n",
    "    \"sign\": \"661701.982004\",\n",
    "    \"token\": \"6b66afd72b0d7ed61aeda6cefc62a540\",\n",
    "    \"domain\": \"common\"\n",
    "}\n",
    "#post请求的参数是不会拼接在url后面，而是放在请求对象定制的参数中\n",
    "response=requests.post(url=url,headers=head,data=data)\n",
    "if response.status_code==200:\n",
    "    print(response)"
   ]
  },
  {
   "cell_type": "markdown",
   "metadata": {},
   "source": [
    "# 4、爬虫能够爬取什么类型的数据？\n",
    "*   网页文本：如HTML文档，Json格式化文本等\n",
    "*   图片：获取到的是二进制文件，保存为图片格式\n",
    "*   视频:同样是二进制文件\n",
    "*   其他：只要请求到的，都可以获取"
   ]
  },
  {
   "cell_type": "markdown",
   "metadata": {},
   "source": [
    "# 5、如何解析数据\n",
    "* BeautifulSoup解析处理（主要）\n",
    "* Json解析（主要）\n",
    "* XPath解析处理（主要）\n",
    "* 正则表达式处理\n",
    "* 直接处理\n",
    "* PyQuery解析处理"
   ]
  },
  {
   "cell_type": "code",
   "execution_count": null,
   "metadata": {},
   "outputs": [],
   "source": [
    "import requests\n",
    "from bs4 import BeautifulSoup\n",
    "from lxml import etree\n",
    "\n",
    "url=\"https://www.baidu.com/\"  #请求目标链接\n",
    "response=requests.get(url=url) #获取相应内容\n",
    "'''文本解析s'''\n",
    "#用BeatifulSoup库解析文本\n",
    "soup=BeautifulSoup(response.text,\"lxml\") \n",
    "#用xpath解析\n",
    "tree=etree.lxml(response.text)"
   ]
  },
  {
   "cell_type": "markdown",
   "metadata": {},
   "source": [
    "如果时json文件，推荐用jsonpath解析文本内容"
   ]
  },
  {
   "cell_type": "code",
   "execution_count": 3,
   "metadata": {},
   "outputs": [
    {
     "name": "stdout",
     "output_type": "stream",
     "text": [
      "['巴斯特·基顿', '凯瑟琳·麦奎尔', '让·雷诺', '娜塔莉·波特曼', '仲代达矢', '石浜朗', '伊利亚·伍德', '西恩·奥斯汀', '三船敏郎', '志村乔', '塔拉·斯特朗', '梅根·史密斯', '克里斯蒂安·贝尔', '希斯·莱杰', '伊利亚·伍德', '西恩·奥斯汀', '花江夏树', '鬼头明里', '山崎胜之', '佐原健二', '贺燕云', '张宏', '伊利亚·伍德', '西恩·奥斯汀', '基努·里维斯', '劳伦斯·菲什伯恩', '巴斯特·基顿', '玛丽昂·马克', '南条弘二', '山崎胜之', '爱德华·诺顿', '布拉德·皮特', '田中敦子', '大塚明夫', '三船敏郎', '仲代达矢', '姜文', '葛优', '娜塔莉·波特曼', '雨果·维文']\n"
     ]
    }
   ],
   "source": [
    "import jsonpath\n",
    "import json\n",
    "\n",
    "obj=json.load(open(r\"douban.json\",\"r\",encoding=\"utf-8\"))\n",
    "types=jsonpath.jsonpath(obj,\"$..types\")   #所有电影类型\n",
    "actors=jsonpath.jsonpath(obj,\"$..actors\") #所有电影的演员\n",
    "actors=jsonpath.jsonpath(obj,\"$..actors[:2]\") #前俩个电影的演员\n",
    "print(actors)"
   ]
  },
  {
   "cell_type": "markdown",
   "metadata": {},
   "source": []
  }
 ],
 "metadata": {
  "interpreter": {
   "hash": "4d31cd09c3b8f49f74181b0dbf6740fc89befcaafc801e81613d22e3c432d659"
  },
  "kernelspec": {
   "display_name": "Python 3.7.6 ('base')",
   "language": "python",
   "name": "python3"
  },
  "language_info": {
   "codemirror_mode": {
    "name": "ipython",
    "version": 3
   },
   "file_extension": ".py",
   "mimetype": "text/x-python",
   "name": "python",
   "nbconvert_exporter": "python",
   "pygments_lexer": "ipython3",
   "version": "3.7.6"
  },
  "orig_nbformat": 4
 },
 "nbformat": 4,
 "nbformat_minor": 2
}
