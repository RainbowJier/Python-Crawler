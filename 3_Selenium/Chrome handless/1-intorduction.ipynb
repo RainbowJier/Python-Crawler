{
 "cells": [
  {
   "cell_type": "markdown",
   "metadata": {},
   "source": [
    "# Chrome handless\n",
    "无需打开网页，使用浏览器，性能更高"
   ]
  },
  {
   "cell_type": "markdown",
   "metadata": {},
   "source": [
    "## 框架"
   ]
  },
  {
   "cell_type": "code",
   "execution_count": 11,
   "metadata": {},
   "outputs": [
    {
     "name": "stdout",
     "output_type": "stream",
     "text": [
      "124.205.155.146\n"
     ]
    },
    {
     "name": "stderr",
     "output_type": "stream",
     "text": [
      "D:\\anaconda33\\lib\\site-packages\\ipykernel_launcher.py:22: DeprecationWarning: use options instead of chrome_options\n"
     ]
    },
    {
     "ename": "WebDriverException",
     "evalue": "Message: unknown error: net::ERR_PROXY_CONNECTION_FAILED\n  (Session info: headless chrome=99.0.4844.74)\nStacktrace:\nBacktrace:\n\tOrdinal0 [0x009B7AC3+2587331]\n\tOrdinal0 [0x0094ADD1+2141649]\n\tOrdinal0 [0x00843BB8+1063864]\n\tOrdinal0 [0x00840661+1050209]\n\tOrdinal0 [0x00835F2D+1007405]\n\tOrdinal0 [0x00836B9E+1010590]\n\tOrdinal0 [0x0083618E+1008014]\n\tOrdinal0 [0x00835780+1005440]\n\tOrdinal0 [0x008348B7+1001655]\n\tOrdinal0 [0x00834B76+1002358]\n\tOrdinal0 [0x008452AA+1069738]\n\tOrdinal0 [0x00898FBD+1413053]\n\tOrdinal0 [0x0088868C+1345164]\n\tOrdinal0 [0x00898A0A+1411594]\n\tOrdinal0 [0x008884A6+1344678]\n\tOrdinal0 [0x008653F6+1201142]\n\tOrdinal0 [0x008662E6+1204966]\n\tGetHandleVerifier [0x00B5DF22+1680738]\n\tGetHandleVerifier [0x00C10DBC+2413564]\n\tGetHandleVerifier [0x00A4D151+563089]\n\tGetHandleVerifier [0x00A4BF13+558419]\n\tOrdinal0 [0x0095081E+2164766]\n\tOrdinal0 [0x00955508+2184456]\n\tOrdinal0 [0x00955650+2184784]\n\tOrdinal0 [0x0095F5BC+2225596]\n\tBaseThreadInitThunk [0x7650FA29+25]\n\tRtlGetAppContainerNamedObjectPath [0x776D7A9E+286]\n\tRtlGetAppContainerNamedObjectPath [0x776D7A6E+238]\n",
     "output_type": "error",
     "traceback": [
      "\u001b[1;31m---------------------------------------------------------------------------\u001b[0m",
      "\u001b[1;31mWebDriverException\u001b[0m                        Traceback (most recent call last)",
      "\u001b[1;32m<ipython-input-11-95b04cab4d78>\u001b[0m in \u001b[0;36m<module>\u001b[1;34m\u001b[0m\n\u001b[0;32m     31\u001b[0m     \u001b[1;31m#打开浏览器\u001b[0m\u001b[1;33m\u001b[0m\u001b[1;33m\u001b[0m\u001b[1;33m\u001b[0m\u001b[0m\n\u001b[0;32m     32\u001b[0m     \u001b[0murl\u001b[0m\u001b[1;33m=\u001b[0m\u001b[1;34m\"https://www.bilibili.com/video/BV15L4y1g7PB/\"\u001b[0m\u001b[1;33m\u001b[0m\u001b[1;33m\u001b[0m\u001b[0m\n\u001b[1;32m---> 33\u001b[1;33m     \u001b[0mbrowser\u001b[0m\u001b[1;33m.\u001b[0m\u001b[0mget\u001b[0m\u001b[1;33m(\u001b[0m\u001b[0murl\u001b[0m\u001b[1;33m)\u001b[0m\u001b[1;33m\u001b[0m\u001b[1;33m\u001b[0m\u001b[0m\n\u001b[0m\u001b[0;32m     34\u001b[0m     \u001b[0mwait\u001b[0m \u001b[1;33m=\u001b[0m \u001b[0mWebDriverWait\u001b[0m\u001b[1;33m(\u001b[0m\u001b[0mbrowser\u001b[0m\u001b[1;33m,\u001b[0m\u001b[1;36m10\u001b[0m\u001b[1;33m)\u001b[0m\u001b[1;33m\u001b[0m\u001b[1;33m\u001b[0m\u001b[0m\n\u001b[0;32m     35\u001b[0m     \u001b[0mbrowser\u001b[0m\u001b[1;33m.\u001b[0m\u001b[0mquit\u001b[0m\u001b[1;33m(\u001b[0m\u001b[1;33m)\u001b[0m\u001b[1;33m\u001b[0m\u001b[1;33m\u001b[0m\u001b[0m\n",
      "\u001b[1;32mD:\\anaconda33\\lib\\site-packages\\selenium\\webdriver\\remote\\webdriver.py\u001b[0m in \u001b[0;36mget\u001b[1;34m(self, url)\u001b[0m\n\u001b[0;32m    434\u001b[0m         \u001b[0mLoads\u001b[0m \u001b[0ma\u001b[0m \u001b[0mweb\u001b[0m \u001b[0mpage\u001b[0m \u001b[1;32min\u001b[0m \u001b[0mthe\u001b[0m \u001b[0mcurrent\u001b[0m \u001b[0mbrowser\u001b[0m \u001b[0msession\u001b[0m\u001b[1;33m.\u001b[0m\u001b[1;33m\u001b[0m\u001b[1;33m\u001b[0m\u001b[0m\n\u001b[0;32m    435\u001b[0m         \"\"\"\n\u001b[1;32m--> 436\u001b[1;33m         \u001b[0mself\u001b[0m\u001b[1;33m.\u001b[0m\u001b[0mexecute\u001b[0m\u001b[1;33m(\u001b[0m\u001b[0mCommand\u001b[0m\u001b[1;33m.\u001b[0m\u001b[0mGET\u001b[0m\u001b[1;33m,\u001b[0m \u001b[1;33m{\u001b[0m\u001b[1;34m'url'\u001b[0m\u001b[1;33m:\u001b[0m \u001b[0murl\u001b[0m\u001b[1;33m}\u001b[0m\u001b[1;33m)\u001b[0m\u001b[1;33m\u001b[0m\u001b[1;33m\u001b[0m\u001b[0m\n\u001b[0m\u001b[0;32m    437\u001b[0m \u001b[1;33m\u001b[0m\u001b[0m\n\u001b[0;32m    438\u001b[0m     \u001b[1;33m@\u001b[0m\u001b[0mproperty\u001b[0m\u001b[1;33m\u001b[0m\u001b[1;33m\u001b[0m\u001b[0m\n",
      "\u001b[1;32mD:\\anaconda33\\lib\\site-packages\\selenium\\webdriver\\remote\\webdriver.py\u001b[0m in \u001b[0;36mexecute\u001b[1;34m(self, driver_command, params)\u001b[0m\n\u001b[0;32m    422\u001b[0m         \u001b[0mresponse\u001b[0m \u001b[1;33m=\u001b[0m \u001b[0mself\u001b[0m\u001b[1;33m.\u001b[0m\u001b[0mcommand_executor\u001b[0m\u001b[1;33m.\u001b[0m\u001b[0mexecute\u001b[0m\u001b[1;33m(\u001b[0m\u001b[0mdriver_command\u001b[0m\u001b[1;33m,\u001b[0m \u001b[0mparams\u001b[0m\u001b[1;33m)\u001b[0m\u001b[1;33m\u001b[0m\u001b[1;33m\u001b[0m\u001b[0m\n\u001b[0;32m    423\u001b[0m         \u001b[1;32mif\u001b[0m \u001b[0mresponse\u001b[0m\u001b[1;33m:\u001b[0m\u001b[1;33m\u001b[0m\u001b[1;33m\u001b[0m\u001b[0m\n\u001b[1;32m--> 424\u001b[1;33m             \u001b[0mself\u001b[0m\u001b[1;33m.\u001b[0m\u001b[0merror_handler\u001b[0m\u001b[1;33m.\u001b[0m\u001b[0mcheck_response\u001b[0m\u001b[1;33m(\u001b[0m\u001b[0mresponse\u001b[0m\u001b[1;33m)\u001b[0m\u001b[1;33m\u001b[0m\u001b[1;33m\u001b[0m\u001b[0m\n\u001b[0m\u001b[0;32m    425\u001b[0m             response['value'] = self._unwrap_value(\n\u001b[0;32m    426\u001b[0m                 response.get('value', None))\n",
      "\u001b[1;32mD:\\anaconda33\\lib\\site-packages\\selenium\\webdriver\\remote\\errorhandler.py\u001b[0m in \u001b[0;36mcheck_response\u001b[1;34m(self, response)\u001b[0m\n\u001b[0;32m    245\u001b[0m                 \u001b[0malert_text\u001b[0m \u001b[1;33m=\u001b[0m \u001b[0mvalue\u001b[0m\u001b[1;33m[\u001b[0m\u001b[1;34m'alert'\u001b[0m\u001b[1;33m]\u001b[0m\u001b[1;33m.\u001b[0m\u001b[0mget\u001b[0m\u001b[1;33m(\u001b[0m\u001b[1;34m'text'\u001b[0m\u001b[1;33m)\u001b[0m\u001b[1;33m\u001b[0m\u001b[1;33m\u001b[0m\u001b[0m\n\u001b[0;32m    246\u001b[0m             \u001b[1;32mraise\u001b[0m \u001b[0mexception_class\u001b[0m\u001b[1;33m(\u001b[0m\u001b[0mmessage\u001b[0m\u001b[1;33m,\u001b[0m \u001b[0mscreen\u001b[0m\u001b[1;33m,\u001b[0m \u001b[0mstacktrace\u001b[0m\u001b[1;33m,\u001b[0m \u001b[0malert_text\u001b[0m\u001b[1;33m)\u001b[0m  \u001b[1;31m# type: ignore[call-arg]  # mypy is not smart enough here\u001b[0m\u001b[1;33m\u001b[0m\u001b[1;33m\u001b[0m\u001b[0m\n\u001b[1;32m--> 247\u001b[1;33m         \u001b[1;32mraise\u001b[0m \u001b[0mexception_class\u001b[0m\u001b[1;33m(\u001b[0m\u001b[0mmessage\u001b[0m\u001b[1;33m,\u001b[0m \u001b[0mscreen\u001b[0m\u001b[1;33m,\u001b[0m \u001b[0mstacktrace\u001b[0m\u001b[1;33m)\u001b[0m\u001b[1;33m\u001b[0m\u001b[1;33m\u001b[0m\u001b[0m\n\u001b[0m\u001b[0;32m    248\u001b[0m \u001b[1;33m\u001b[0m\u001b[0m\n\u001b[0;32m    249\u001b[0m     \u001b[1;32mdef\u001b[0m \u001b[0m_value_or_default\u001b[0m\u001b[1;33m(\u001b[0m\u001b[0mself\u001b[0m\u001b[1;33m,\u001b[0m \u001b[0mobj\u001b[0m\u001b[1;33m:\u001b[0m \u001b[0mMapping\u001b[0m\u001b[1;33m[\u001b[0m\u001b[0m_KT\u001b[0m\u001b[1;33m,\u001b[0m \u001b[0m_VT\u001b[0m\u001b[1;33m]\u001b[0m\u001b[1;33m,\u001b[0m \u001b[0mkey\u001b[0m\u001b[1;33m:\u001b[0m \u001b[0m_KT\u001b[0m\u001b[1;33m,\u001b[0m \u001b[0mdefault\u001b[0m\u001b[1;33m:\u001b[0m \u001b[0m_VT\u001b[0m\u001b[1;33m)\u001b[0m \u001b[1;33m->\u001b[0m \u001b[0m_VT\u001b[0m\u001b[1;33m:\u001b[0m\u001b[1;33m\u001b[0m\u001b[1;33m\u001b[0m\u001b[0m\n",
      "\u001b[1;31mWebDriverException\u001b[0m: Message: unknown error: net::ERR_PROXY_CONNECTION_FAILED\n  (Session info: headless chrome=99.0.4844.74)\nStacktrace:\nBacktrace:\n\tOrdinal0 [0x009B7AC3+2587331]\n\tOrdinal0 [0x0094ADD1+2141649]\n\tOrdinal0 [0x00843BB8+1063864]\n\tOrdinal0 [0x00840661+1050209]\n\tOrdinal0 [0x00835F2D+1007405]\n\tOrdinal0 [0x00836B9E+1010590]\n\tOrdinal0 [0x0083618E+1008014]\n\tOrdinal0 [0x00835780+1005440]\n\tOrdinal0 [0x008348B7+1001655]\n\tOrdinal0 [0x00834B76+1002358]\n\tOrdinal0 [0x008452AA+1069738]\n\tOrdinal0 [0x00898FBD+1413053]\n\tOrdinal0 [0x0088868C+1345164]\n\tOrdinal0 [0x00898A0A+1411594]\n\tOrdinal0 [0x008884A6+1344678]\n\tOrdinal0 [0x008653F6+1201142]\n\tOrdinal0 [0x008662E6+1204966]\n\tGetHandleVerifier [0x00B5DF22+1680738]\n\tGetHandleVerifier [0x00C10DBC+2413564]\n\tGetHandleVerifier [0x00A4D151+563089]\n\tGetHandleVerifier [0x00A4BF13+558419]\n\tOrdinal0 [0x0095081E+2164766]\n\tOrdinal0 [0x00955508+2184456]\n\tOrdinal0 [0x00955650+2184784]\n\tOrdinal0 [0x0095F5BC+2225596]\n\tBaseThreadInitThunk [0x7650FA29+25]\n\tRtlGetAppContainerNamedObjectPath [0x776D7A9E+286]\n\tRtlGetAppContainerNamedObjectPath [0x776D7A6E+238]\n"
     ]
    }
   ],
   "source": [
    "import random\n",
    "from selenium import webdriver\n",
    "from selenium.webdriver.chrome.options import Options\n",
    "from selenium.webdriver.support.wait import WebDriverWait\n",
    "\n",
    "def get_proxes():\n",
    "    path=r\"D:\\python\\crawler\\crawler2022\\7_构建ip代理\\proxies.txt\"\n",
    "    with open(path,\"r\") as f:\n",
    "        proxies=f.readlines()\n",
    "        for i in range(len(proxies)):\n",
    "            proxies[i]=proxies[i].strip(\"\\n\")\n",
    "        return proxies\n",
    "\n",
    "def share_browser(ip):\n",
    "    chrome_options=Options()\n",
    "    chrome_options.add_argument(\"--headless\")\n",
    "    chrome_options.add_argument(\"--disable-gpu\")    \n",
    "    chrome_options.add_argument(f'--proxy-server=https://{ip}')  # 添加代理\n",
    "    #创建谷歌浏览器操作对象\n",
    "    path=r\"C:\\Program Files\\Google\\Chrome\\Application\\chrome.exe\"  \n",
    "    chrome_options.binary_location=path\n",
    "    browser=webdriver.Chrome(chrome_options=chrome_options)\n",
    "    return browser\n",
    "\n",
    "proxies=get_proxes()\n",
    "for i in range(10):\n",
    "    ip=random.choice(proxies)\n",
    "    #ip=proxies[i]\n",
    "    print(ip)\n",
    "    browser=share_browser(ip)\n",
    "    #打开浏览器\n",
    "    url=\"https://www.bilibili.com/video/BV15L4y1g7PB/\"\n",
    "    browser.get(url)\n",
    "    wait = WebDriverWait(browser,10)\n",
    "    browser.quit()\n",
    "    #browser.save_screenshot(\"baidu.png\")  #截屏\n",
    "\n"
   ]
  },
  {
   "cell_type": "markdown",
   "metadata": {},
   "source": [
    "# 问题\n",
    "* Message: 'chromedriver.exe' executable needs to be in PATH. Please see https：https://blog.csdn.net/qq_39885465/article/details/104500137"
   ]
  },
  {
   "cell_type": "code",
   "execution_count": null,
   "metadata": {},
   "outputs": [],
   "source": []
  }
 ],
 "metadata": {
  "interpreter": {
   "hash": "8f03fb8992b0e5aa6a67cd56eb653950a01f214acb97d94a2178dd1aa47d1bcf"
  },
  "kernelspec": {
   "display_name": "Python 3.7.6 ('base')",
   "language": "python",
   "name": "python3"
  },
  "language_info": {
   "codemirror_mode": {
    "name": "ipython",
    "version": 3
   },
   "file_extension": ".py",
   "mimetype": "text/x-python",
   "name": "python",
   "nbconvert_exporter": "python",
   "pygments_lexer": "ipython3",
   "version": "3.7.6"
  },
  "orig_nbformat": 4
 },
 "nbformat": 4,
 "nbformat_minor": 2
}
