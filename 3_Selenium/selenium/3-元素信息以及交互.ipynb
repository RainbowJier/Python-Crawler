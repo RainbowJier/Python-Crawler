{
 "cells": [
  {
   "cell_type": "markdown",
   "metadata": {},
   "source": [
    "# 元素信息"
   ]
  },
  {
   "cell_type": "code",
   "execution_count": null,
   "metadata": {},
   "outputs": [],
   "source": [
    "import requests\n",
    "from selenium import webdriver\n",
    "#创建谷歌浏览器操作对象\n",
    "path=r\"C:\\Program Files\\Google\\Chrome\\Application\\chromedriver.exe\"  #谷歌浏览器的驱动文件路径\n",
    "browser=webdriver.Chrome(path)\n",
    "#打开浏览器\n",
    "url=\"https://www.baidu.com/\"\n",
    "browser.get(url)\n",
    "\n",
    "input=browser.find_element_by_id(\"su\")\n",
    "#获取标签属性\n",
    "print(input.get_attribute(\"class\"))  #获取属性名字\n",
    "#获取标签名字\n",
    "print(input.tag_name)  #标签名字\n",
    "#获取元素文本\n",
    "print(input.text)  #元素文本"
   ]
  },
  {
   "cell_type": "markdown",
   "metadata": {},
   "source": [
    "# 元素交互"
   ]
  },
  {
   "cell_type": "code",
   "execution_count": 12,
   "metadata": {},
   "outputs": [
    {
     "name": "stderr",
     "output_type": "stream",
     "text": [
      "D:\\anaconda33\\lib\\site-packages\\ipykernel_launcher.py:6: DeprecationWarning: executable_path has been deprecated, please pass in a Service object\n",
      "  \n",
      "D:\\anaconda33\\lib\\site-packages\\ipykernel_launcher.py:13: DeprecationWarning: find_element_by_* commands are deprecated. Please use find_element() instead\n",
      "  del sys.path[0]\n",
      "D:\\anaconda33\\lib\\site-packages\\ipykernel_launcher.py:18: DeprecationWarning: find_element_by_* commands are deprecated. Please use find_element() instead\n",
      "D:\\anaconda33\\lib\\site-packages\\ipykernel_launcher.py:29: DeprecationWarning: find_element_by_* commands are deprecated. Please use find_element() instead\n"
     ]
    }
   ],
   "source": [
    "import requests\n",
    "from selenium import webdriver\n",
    "import time\n",
    "from selenium.webdriver.support.wait import WebDriverWait\n",
    "\n",
    "#创建谷歌浏览器操作对象\n",
    "path=r\"C:\\Program Files\\Google\\Chrome\\Application\\chromedriver.exe\"  #谷歌浏览器的驱动文件路径\n",
    "browser=webdriver.Chrome(path)\n",
    "#打开浏览器\n",
    "url=\"https://www.baidu.com/\"\n",
    "browser.get(url)\n",
    "time.sleep(2)  #速度过快会出现机器校验\n",
    "\n",
    "'''获取文本框的对象'''\n",
    "input=browser.find_element_by_id(\"kw\")\n",
    "#在文本框中输入周杰伦\n",
    "input.send_keys(\"周杰伦\")\n",
    "\n",
    "'''获取百度一下的按钮'''\n",
    "button=browser.find_element_by_id(\"su\")\n",
    "#点击按钮\n",
    "button.click()\n",
    "time.sleep(2)\n",
    "\n",
    "'''滑到底部'''\n",
    "js_button=\"document.documentElement.scrollTop=100000\"  #滑动的距离\n",
    "browser.execute_script(js_button)\n",
    "time.sleep(2)\n",
    "\n",
    "'''点击下一页'''\n",
    "next=browser.find_element_by_xpath('//*[@id=\"page\"]/div/a[10]')\n",
    "next.click()\n",
    "time.sleep(2)\n",
    "\n",
    "'''回到上一页'''\n",
    "browser.back()\n",
    "time.sleep(2)\n",
    "\n",
    "'''回去'''\n",
    "browser.forward()\n",
    "time.sleep(2)\n",
    "\n",
    "'''退出'''\n",
    "browser.quit()"
   ]
  }
 ],
 "metadata": {
  "interpreter": {
   "hash": "8f03fb8992b0e5aa6a67cd56eb653950a01f214acb97d94a2178dd1aa47d1bcf"
  },
  "kernelspec": {
   "display_name": "Python 3.7.6 ('base')",
   "language": "python",
   "name": "python3"
  },
  "language_info": {
   "codemirror_mode": {
    "name": "ipython",
    "version": 3
   },
   "file_extension": ".py",
   "mimetype": "text/x-python",
   "name": "python",
   "nbconvert_exporter": "python",
   "pygments_lexer": "ipython3",
   "version": "3.7.6"
  },
  "orig_nbformat": 4
 },
 "nbformat": 4,
 "nbformat_minor": 2
}
