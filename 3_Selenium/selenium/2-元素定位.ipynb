{
 "cells": [
  {
   "cell_type": "markdown",
   "metadata": {},
   "source": [
    "# 元素定位"
   ]
  },
  {
   "cell_type": "code",
   "execution_count": 2,
   "metadata": {},
   "outputs": [
    {
     "name": "stderr",
     "output_type": "stream",
     "text": [
      "D:\\anaconda33\\lib\\site-packages\\ipykernel_launcher.py:7: DeprecationWarning: executable_path has been deprecated, please pass in a Service object\n",
      "  import sys\n"
     ]
    },
    {
     "data": {
      "text/plain": [
       "'元素定位'"
      ]
     },
     "execution_count": 2,
     "metadata": {},
     "output_type": "execute_result"
    }
   ],
   "source": [
    "import requests\n",
    "from selenium import webdriver\n",
    "from selenium.webdriver.support.wait import WebDriverWait\n",
    "\n",
    "def get_proxes():\n",
    "    path=r\"D:\\python\\crawler\\crawler2022\\7_构建ip代理\\proxies.txt\"\n",
    "    with open(path,\"r\") as f:\n",
    "        proxies=f.readlines()\n",
    "        for i in range(len(proxies)):\n",
    "            proxies[i]=proxies[i].strip(\"\\n\")\n",
    "        return proxies\n",
    "def page(ip):\n",
    "    #创建谷歌浏览器操作对象\n",
    "    path=r\"C:\\Program Files\\Google\\Chrome\\Application\\chromedriver.exe\"  #谷歌浏览器的驱动文件路径\n",
    "    browser=webdriver.Chrome(path)\n",
    "\n",
    "    url=\"https://www.bilibili.com/video/BV15L4y1g7PB/\"\n",
    "    browser.get(url)\n",
    "    wait = WebDriverWait(browser, 3)\n",
    "    '''退出'''\n",
    "    browser.quit()\n",
    "\n",
    "proxies=get_proxes()\n",
    "for i in range(10):\n",
    "    ip=proxies[i]\n",
    "    print(ip)\n",
    "    page(ip)\n",
    "\"\"\"元素定位\"\"\"\n",
    "#根据id找对象\n",
    "#button=browser.find_element_by_id(\"su\")\n",
    "\n",
    "#根据标签的属性值来获取对象\n",
    "#button=browser.find_elements_by_name(\"wd\")\n",
    "\n",
    "#根据xpath定位对象\n",
    "#button=browser.find_element_by_xpath('//*[@id=\"kw\"]')\n",
    "\n",
    "#根据标签的名字获取对象\n",
    "#button=browser.find_element_by_tag_name(\"input\")\n",
    "\n",
    "#使用bs4的语法来获取对象\n",
    "#button=browser.find_elements_by_css_selector(\"#su\")\n",
    "\n",
    "#根据文本\n",
    "#button=browser.find_element_by_link_text(\"图片\")\n",
    "#print(button)"
   ]
  }
 ],
 "metadata": {
  "interpreter": {
   "hash": "8f03fb8992b0e5aa6a67cd56eb653950a01f214acb97d94a2178dd1aa47d1bcf"
  },
  "kernelspec": {
   "display_name": "Python 3.7.6 ('base')",
   "language": "python",
   "name": "python3"
  },
  "language_info": {
   "codemirror_mode": {
    "name": "ipython",
    "version": 3
   },
   "file_extension": ".py",
   "mimetype": "text/x-python",
   "name": "python",
   "nbconvert_exporter": "python",
   "pygments_lexer": "ipython3",
   "version": "3.7.6"
  },
  "orig_nbformat": 4
 },
 "nbformat": 4,
 "nbformat_minor": 2
}
